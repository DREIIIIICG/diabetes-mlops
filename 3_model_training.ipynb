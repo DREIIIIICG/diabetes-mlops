{
 "cells": [
  {
   "cell_type": "code",
   "execution_count": 1,
   "id": "174f0124-f5cd-49d1-aa77-f6b3699030a6",
   "metadata": {
    "execution": {
     "iopub.execute_input": "2025-02-10T10:50:52.477651Z",
     "iopub.status.busy": "2025-02-10T10:50:52.475687Z",
     "iopub.status.idle": "2025-02-10T10:50:53.742159Z",
     "shell.execute_reply": "2025-02-10T10:50:53.741486Z",
     "shell.execute_reply.started": "2025-02-10T10:50:52.477540Z"
    }
   },
   "outputs": [
    {
     "data": {
      "text/plain": [
       "['knn_model.pkl']"
      ]
     },
     "execution_count": 1,
     "metadata": {},
     "output_type": "execute_result"
    }
   ],
   "source": [
    "import pandas as pd\n",
    "import joblib\n",
    "from sklearn.model_selection import train_test_split\n",
    "from sklearn.neighbors import KNeighborsClassifier\n",
    "\n",
    "# Load data\n",
    "X = pd.read_csv(\"scaled_features.csv\")\n",
    "y = pd.read_csv(\"labels.csv\")\n",
    "\n",
    "# Split data\n",
    "X_train, X_test, y_train, y_test = train_test_split(X, y, test_size=0.2, random_state=0)\n",
    "\n",
    "# Train model\n",
    "knn = KNeighborsClassifier(n_neighbors=11, metric='euclidean')\n",
    "knn.fit(X_train, y_train.values.ravel())\n",
    "\n",
    "# Save model\n",
    "joblib.dump(knn, \"knn_model.pkl\")"
   ]
  },
  {
   "cell_type": "code",
   "execution_count": null,
   "id": "067341ee-6cee-4b0b-aaef-ad3c97bcc382",
   "metadata": {},
   "outputs": [],
   "source": []
  }
 ],
 "metadata": {
  "kernelspec": {
   "display_name": "Python [conda env:base] *",
   "language": "python",
   "name": "conda-base-py"
  },
  "language_info": {
   "codemirror_mode": {
    "name": "ipython",
    "version": 3
   },
   "file_extension": ".py",
   "mimetype": "text/x-python",
   "name": "python",
   "nbconvert_exporter": "python",
   "pygments_lexer": "ipython3",
   "version": "3.12.8"
  }
 },
 "nbformat": 4,
 "nbformat_minor": 5
}
