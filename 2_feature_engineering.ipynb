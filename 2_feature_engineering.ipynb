{
 "cells": [
  {
   "cell_type": "code",
   "execution_count": 3,
   "id": "98db61f5-e5fd-48c8-bcd2-05780ecef490",
   "metadata": {
    "execution": {
     "iopub.execute_input": "2025-02-10T10:50:32.808203Z",
     "iopub.status.busy": "2025-02-10T10:50:32.807501Z",
     "iopub.status.idle": "2025-02-10T10:50:32.856192Z",
     "shell.execute_reply": "2025-02-10T10:50:32.855092Z",
     "shell.execute_reply.started": "2025-02-10T10:50:32.808142Z"
    }
   },
   "outputs": [],
   "source": [
    "import pandas as pd\n",
    "from sklearn.preprocessing import StandardScaler\n",
    "\n",
    "# Load preprocessed data\n",
    "df = pd.read_csv(\"processed_data.csv\")\n",
    "\n",
    "# Separate features and target\n",
    "X = df.iloc[:, :-1]  # All columns except last (features)\n",
    "y = df.iloc[:, -1]   # Last column (target)\n",
    "\n",
    "# Standardize data\n",
    "scaler = StandardScaler()\n",
    "X_scaled = scaler.fit_transform(X)\n",
    "\n",
    "# Save processed features\n",
    "pd.DataFrame(X_scaled).to_csv(\"scaled_features.csv\", index=False)\n",
    "pd.DataFrame(y).to_csv(\"labels.csv\", index=False)"
   ]
  },
  {
   "cell_type": "code",
   "execution_count": null,
   "id": "85c41da5-cd37-4468-a99b-32bba76d6e26",
   "metadata": {},
   "outputs": [],
   "source": []
  }
 ],
 "metadata": {
  "kernelspec": {
   "display_name": "Python [conda env:base] *",
   "language": "python",
   "name": "conda-base-py"
  },
  "language_info": {
   "codemirror_mode": {
    "name": "ipython",
    "version": 3
   },
   "file_extension": ".py",
   "mimetype": "text/x-python",
   "name": "python",
   "nbconvert_exporter": "python",
   "pygments_lexer": "ipython3",
   "version": "3.12.8"
  }
 },
 "nbformat": 4,
 "nbformat_minor": 5
}
