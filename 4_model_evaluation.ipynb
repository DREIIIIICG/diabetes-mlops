{
 "cells": [
  {
   "cell_type": "code",
   "execution_count": 1,
   "id": "8bc5755c-e5b3-47c3-822f-669f51c1ae75",
   "metadata": {
    "execution": {
     "iopub.execute_input": "2025-02-10T10:51:11.319490Z",
     "iopub.status.busy": "2025-02-10T10:51:11.318710Z",
     "iopub.status.idle": "2025-02-10T10:51:12.602572Z",
     "shell.execute_reply": "2025-02-10T10:51:12.601548Z",
     "shell.execute_reply.started": "2025-02-10T10:51:11.319439Z"
    }
   },
   "outputs": [
    {
     "name": "stdout",
     "output_type": "stream",
     "text": [
      "Confusion Matrix:\n",
      " [[439  61]\n",
      " [ 91 177]]\n",
      "F1 Score: 0.6996047430830039\n",
      "Accuracy: 0.8020833333333334\n"
     ]
    }
   ],
   "source": [
    "import pandas as pd\n",
    "import joblib\n",
    "from sklearn.metrics import accuracy_score, f1_score, confusion_matrix\n",
    "\n",
    "# Load model and test data\n",
    "knn = joblib.load(\"knn_model.pkl\")\n",
    "X_test = pd.read_csv(\"scaled_features.csv\")\n",
    "y_test = pd.read_csv(\"labels.csv\")\n",
    "\n",
    "# Predict\n",
    "y_pred = knn.predict(X_test)\n",
    "\n",
    "# Evaluate\n",
    "print(\"Confusion Matrix:\\n\", confusion_matrix(y_test, y_pred))\n",
    "print(\"F1 Score:\", f1_score(y_test, y_pred))\n",
    "print(\"Accuracy:\", accuracy_score(y_test, y_pred))"
   ]
  },
  {
   "cell_type": "code",
   "execution_count": null,
   "id": "b2724745-caf9-49fb-82f3-e0e78d0fc9ad",
   "metadata": {},
   "outputs": [],
   "source": []
  }
 ],
 "metadata": {
  "kernelspec": {
   "display_name": "Python [conda env:base] *",
   "language": "python",
   "name": "conda-base-py"
  },
  "language_info": {
   "codemirror_mode": {
    "name": "ipython",
    "version": 3
   },
   "file_extension": ".py",
   "mimetype": "text/x-python",
   "name": "python",
   "nbconvert_exporter": "python",
   "pygments_lexer": "ipython3",
   "version": "3.12.8"
  }
 },
 "nbformat": 4,
 "nbformat_minor": 5
}
