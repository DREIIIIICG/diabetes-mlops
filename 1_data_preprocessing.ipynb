{
 "cells": [
  {
   "cell_type": "code",
   "execution_count": 2,
   "id": "fbcf59e2-a32c-43a2-8421-52d56ee0ecb6",
   "metadata": {
    "execution": {
     "iopub.execute_input": "2025-02-10T10:48:25.220690Z",
     "iopub.status.busy": "2025-02-10T10:48:25.220297Z",
     "iopub.status.idle": "2025-02-10T10:48:25.246005Z",
     "shell.execute_reply": "2025-02-10T10:48:25.244516Z",
     "shell.execute_reply.started": "2025-02-10T10:48:25.220666Z"
    }
   },
   "outputs": [
    {
     "name": "stdout",
     "output_type": "stream",
     "text": [
      "Dataset size: (768, 9)\n",
      "✅ Data Preprocessing Completed\n"
     ]
    }
   ],
   "source": [
    "import pandas as pd\n",
    "import numpy as np\n",
    "\n",
    "# Load dataset\n",
    "ds = pd.read_csv('diabetes.csv')\n",
    "print(f\"Dataset size: {ds.shape}\")\n",
    "\n",
    "# Remove zero values in selected columns\n",
    "no_zero = ['Glucose', 'BloodPressure', 'SkinThickness', 'BMI', 'Insulin']\n",
    "for column in no_zero:\n",
    "    ds[column] = ds[column].replace(0, np.NaN)\n",
    "    mean = int(ds[column].mean(skipna=True))\n",
    "    ds[column] = ds[column].replace(np.NaN, mean)\n",
    "\n",
    "# Save processed data\n",
    "ds.to_csv(\"processed_data.csv\", index=False)\n",
    "print(\"✅ Data Preprocessing Completed\")"
   ]
  },
  {
   "cell_type": "code",
   "execution_count": null,
   "id": "06a5541b-17d0-430a-9e2c-ffd1ea5feb03",
   "metadata": {},
   "outputs": [],
   "source": []
  }
 ],
 "metadata": {
  "kernelspec": {
   "display_name": "Python [conda env:base] *",
   "language": "python",
   "name": "conda-base-py"
  },
  "language_info": {
   "codemirror_mode": {
    "name": "ipython",
    "version": 3
   },
   "file_extension": ".py",
   "mimetype": "text/x-python",
   "name": "python",
   "nbconvert_exporter": "python",
   "pygments_lexer": "ipython3",
   "version": "3.12.8"
  }
 },
 "nbformat": 4,
 "nbformat_minor": 5
}
